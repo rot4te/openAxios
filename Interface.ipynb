{
 "cells": [
  {
   "cell_type": "code",
   "execution_count": null,
   "metadata": {},
   "outputs": [],
   "source": [
    "import numpy as np\n",
    "import scipy as sp\n",
    "import matplotlib as mpl\n",
    "import matplotlib.pyplot as plt\n",
    "\n",
    "import python_src.spike_info as funcs"
   ]
  },
  {
   "cell_type": "code",
   "execution_count": null,
   "metadata": {},
   "outputs": [],
   "source": [
    "########################\n",
    "# in this cell, set which_spk to the filepath of \n",
    "# the spikes you'd like to analyze\n",
    "# and run by pressing the play button on the left\n",
    "# or hitting shift-enter\n",
    "########################\n",
    "\n",
    "which_spk = \"mats/HD Neuron Pulsing 09MAY2024_Baseline(000).mat\"\n",
    "this_spk = sp.io.loadmat(f\"/Users/alexcoxe/code/openAxios/{which_spk}\")\n",
    "spike = this_spk['data']"
   ]
  },
  {
   "cell_type": "code",
   "execution_count": null,
   "metadata": {},
   "outputs": [],
   "source": [
    "########################\n",
    "# This cell plots a 4 by 4 grid\n",
    "# of signals produced in well (well_row, well_col)\n",
    "# since the data is zero indexed, \n",
    "# I subtract one in the function call funcs.plot_well(...)\n",
    "# run by pressing the play button on the left\n",
    "# or hitting shift-enter   \n",
    "########################\n",
    "\n",
    "well_row = 3\n",
    "well_col = 2\n",
    "\n",
    "funcs.plot_well(spike, well_row-1, well_col-1)"
   ]
  },
  {
   "cell_type": "code",
   "execution_count": null,
   "metadata": {},
   "outputs": [],
   "source": [
    "########################\n",
    "# This cell retrieves the spike info\n",
    "# for a single signal wave, indexed by well, electrode, and signal number (wave)\n",
    "# It will return a dict struct with keys:\n",
    "\n",
    "# 'num_spikes' - the number of qualitatively separate extrema in the wave\n",
    "# 'num_reflec' - the number of spike reflections on the wave\n",
    "# 'spike_data' - the amplitudes and positions of the spikes\n",
    "# 'reflect_data' - the amplitudes and positions of reflections\n",
    "\n",
    "# run by pressing the play button on the left\n",
    "# or hitting shift-enter   \n",
    "########################\n",
    "\n",
    "wr = 0\n",
    "wc = 0\n",
    "er = 0\n",
    "ec = 0\n",
    "wave = 0\n",
    "\n",
    "time_vector = spike[wr][wc][er][ec][wave][0]\n",
    "voltage_vector = spike[wr][wc][er][ec][wave][1]\n",
    "\n",
    "this_wave = funcs.get_peaks(voltage_vector, time_vector)"
   ]
  },
  {
   "cell_type": "code",
   "execution_count": null,
   "metadata": {},
   "outputs": [],
   "source": [
    "# access the details of the particular spike as follows:\n",
    "print(this_wave['num_spikes']) # prints the number of spikes\n",
    "print(this_wave['num_reflect']) # prints the number of reflections\n",
    "print(this_wave['spike_data']) # prints the details of the signal\n",
    "print(this_wave['reflect_data']) # details of reflections"
   ]
  },
  {
   "cell_type": "code",
   "execution_count": null,
   "metadata": {},
   "outputs": [],
   "source": [
    "########################\n",
    "# This cell plots the average signal of all spikes on an electrode\n",
    "# \n",
    "# run by pressing the play button on the left\n",
    "# or hitting shift-enter   \n",
    "########################\n",
    "\n",
    "# wr, wc, er, ec are zero indexed identifiers for \n",
    "# well row, well column, electrode row, electrode column\n",
    "\n",
    "wr = 0\n",
    "wc = 0\n",
    "er = 0\n",
    "ec = 0\n",
    "\n",
    "# compute the average signal\n",
    "funcs.plot_electrode_mean(spike, wr, wc, er, ec)"
   ]
  },
  {
   "cell_type": "code",
   "execution_count": null,
   "metadata": {},
   "outputs": [],
   "source": []
  }
 ],
 "metadata": {
  "kernelspec": {
   "display_name": "whores",
   "language": "python",
   "name": "python3"
  },
  "language_info": {
   "codemirror_mode": {
    "name": "ipython",
    "version": 3
   },
   "file_extension": ".py",
   "mimetype": "text/x-python",
   "name": "python",
   "nbconvert_exporter": "python",
   "pygments_lexer": "ipython3",
   "version": "3.11.6"
  }
 },
 "nbformat": 4,
 "nbformat_minor": 2
}
